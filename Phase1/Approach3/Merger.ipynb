{
 "cells": [
  {
   "cell_type": "code",
   "execution_count": 1,
   "metadata": {
    "collapsed": true
   },
   "outputs": [],
   "source": [
    "import pandas as pd\n",
    "import numpy as np\n",
    "import csv"
   ]
  },
  {
   "cell_type": "code",
   "execution_count": 2,
   "metadata": {
    "collapsed": true
   },
   "outputs": [],
   "source": [
    "months = ['04_april', '05_may', '06_june', '07_july', '08_august', '09_september']\n",
    "periods = ['weekday_1200amto0600am.csv', 'weekday_0600amto1000am.csv', 'weekday_1000amto0330pm.csv',\n",
    "        'weekday_0330pmto0430pm.csv', 'weekday_0430pmto0600pm.csv', 'weekday_0600pmto0900pm.csv',\n",
    "        'weekday_0900pmto1200am.csv', 'sunday_1200amto0200am.csv', 'sunday_0200amto0200pm.csv', \n",
    "        'sunday_0200pmto0400pm.csv', 'sunday_0400pmto1200am.csv']\n",
    "\n",
    "def clean(dataframe_):\n",
    "    name0 = dataframe_.columns[0]\n",
    "    name1 = dataframe_.columns[-1]\n",
    "    dataframe_[name0] = dataframe_[name0].apply(lambda x: x[3:-1])\n",
    "    dataframe_[name1] = dataframe_[name1].apply(lambda x: int(x[:-1]))\n",
    "    return dataframe_\n",
    "\n",
    "def linear_fit(df):\n",
    "    cols = df.columns[1:]\n",
    "    df['reg_april-september'] = zip(df[cols[0]], df[cols[1]], df[cols[2]], df[cols[3]], df[cols[4]], df[cols[5]])\n",
    "    df['reg_april-september'] = df['reg_april-september'].apply(lambda x: np.polyfit(range(6), x, 1))\n",
    "    df['reg_may-september'] = zip(df[cols[1]], df[cols[2]], df[cols[3]], df[cols[4]], df[cols[5]])\n",
    "    df['reg_may-september'] = df['reg_may-september'].apply(lambda x: np.polyfit(range(5), x, 1))\n",
    "    return df\n",
    "\n",
    "data = map(lambda period: map(lambda month: clean(pd.read_csv(month+'/'+period, header=None,\n",
    "                                                        names = ['CT', month])), months), periods)"
   ]
  },
  {
   "cell_type": "code",
   "execution_count": 3,
   "metadata": {
    "collapsed": true
   },
   "outputs": [],
   "source": [
    "data = map(lambda d: reduce(lambda x, y: x.merge(y, how = 'outer'), d), data)\n",
    "data = map(lambda d: d.fillna(value = 0), data)"
   ]
  },
  {
   "cell_type": "code",
   "execution_count": 4,
   "metadata": {},
   "outputs": [
    {
     "data": {
      "text/html": [
       "<div>\n",
       "<table border=\"1\" class=\"dataframe\">\n",
       "  <thead>\n",
       "    <tr style=\"text-align: right;\">\n",
       "      <th></th>\n",
       "      <th>CT</th>\n",
       "      <th>04_april</th>\n",
       "      <th>05_may</th>\n",
       "      <th>06_june</th>\n",
       "      <th>07_july</th>\n",
       "      <th>08_august</th>\n",
       "      <th>09_september</th>\n",
       "    </tr>\n",
       "  </thead>\n",
       "  <tbody>\n",
       "    <tr>\n",
       "      <th>0</th>\n",
       "      <td>3026600</td>\n",
       "      <td>8.0</td>\n",
       "      <td>5.0</td>\n",
       "      <td>10.0</td>\n",
       "      <td>4.0</td>\n",
       "      <td>3.0</td>\n",
       "      <td>4.0</td>\n",
       "    </tr>\n",
       "    <tr>\n",
       "      <th>1</th>\n",
       "      <td>3082000</td>\n",
       "      <td>121.0</td>\n",
       "      <td>123.0</td>\n",
       "      <td>120.0</td>\n",
       "      <td>127.0</td>\n",
       "      <td>99.0</td>\n",
       "      <td>120.0</td>\n",
       "    </tr>\n",
       "    <tr>\n",
       "      <th>2</th>\n",
       "      <td>1026500</td>\n",
       "      <td>652.0</td>\n",
       "      <td>826.0</td>\n",
       "      <td>672.0</td>\n",
       "      <td>695.0</td>\n",
       "      <td>729.0</td>\n",
       "      <td>601.0</td>\n",
       "    </tr>\n",
       "  </tbody>\n",
       "</table>\n",
       "</div>"
      ],
      "text/plain": [
       "        CT  04_april  05_may  06_june  07_july  08_august  09_september\n",
       "0  3026600       8.0     5.0     10.0      4.0        3.0           4.0\n",
       "1  3082000     121.0   123.0    120.0    127.0       99.0         120.0\n",
       "2  1026500     652.0   826.0    672.0    695.0      729.0         601.0"
      ]
     },
     "execution_count": 4,
     "metadata": {},
     "output_type": "execute_result"
    }
   ],
   "source": [
    "data[0].head(3)"
   ]
  },
  {
   "cell_type": "code",
   "execution_count": 5,
   "metadata": {
    "collapsed": true
   },
   "outputs": [],
   "source": [
    "data = map(linear_fit, data)"
   ]
  },
  {
   "cell_type": "code",
   "execution_count": 6,
   "metadata": {
    "collapsed": true
   },
   "outputs": [],
   "source": [
    "tocsv = map(lambda x: data[x].to_csv(periods[x]), range(len(data)))"
   ]
  },
  {
   "cell_type": "code",
   "execution_count": null,
   "metadata": {
    "collapsed": true
   },
   "outputs": [],
   "source": []
  }
 ],
 "metadata": {
  "kernelspec": {
   "display_name": "Python [conda root]",
   "language": "python",
   "name": "conda-root-py"
  },
  "language_info": {
   "codemirror_mode": {
    "name": "ipython",
    "version": 2
   },
   "file_extension": ".py",
   "mimetype": "text/x-python",
   "name": "python",
   "nbconvert_exporter": "python",
   "pygments_lexer": "ipython2",
   "version": "2.7.13"
  }
 },
 "nbformat": 4,
 "nbformat_minor": 2
}
