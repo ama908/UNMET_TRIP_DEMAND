{
 "cells": [
  {
   "cell_type": "code",
   "execution_count": 1,
   "metadata": {
    "collapsed": true
   },
   "outputs": [],
   "source": [
    "#import webbrowser\n",
    "import time\n",
    "import os\n",
    "import shutil\n",
    "from csv import reader\n",
    "import numpy as np\n",
    "import glob\n",
    "from csv import reader\n",
    "import csv\n",
    "from operator import itemgetter\n",
    "import datetime"
   ]
  },
  {
   "cell_type": "code",
   "execution_count": 2,
   "metadata": {
    "collapsed": true
   },
   "outputs": [],
   "source": [
    "# def get_link(number):\n",
    "#     url_start = \"https://data.cusp.nyu.edu/filebrowser/download=/gws/projects/project-taxi_capstone_2016/share/breadcrumb_nad83_nearest3_150ft/part-\"\n",
    "#     result = str(number)\n",
    "#     result = url_start + \"\".join((5 - len(result))*['0'])+result + \".gz\"\n",
    "#     return result\n",
    "\n",
    "# def download_(number):\n",
    "#     link = get_link(number)\n",
    "#     webbrowser.open(link, new=0)\n",
    "#     while not os.path.isfile('YellowGreen/'+ link.split('/')[-1]):\n",
    "#         time.sleep(7)\n",
    "#     print \"Loaded file number \" + str(number)"
   ]
  },
  {
   "cell_type": "code",
   "execution_count": 3,
   "metadata": {
    "collapsed": true,
    "scrolled": true
   },
   "outputs": [],
   "source": [
    "#m = map(download_, range(674, 2132))"
   ]
  },
  {
   "cell_type": "code",
   "execution_count": 4,
   "metadata": {
    "collapsed": true
   },
   "outputs": [],
   "source": [
    "# January\n",
    "rdd = sc.textFile('YellowGreen/part*.gz')\n",
    "oneday = rdd.filter(lambda x: x.split(',')[1].startswith('1504')).map(lambda x: x.split(':')[0])"
   ]
  },
  {
   "cell_type": "code",
   "execution_count": 5,
   "metadata": {
    "collapsed": true
   },
   "outputs": [],
   "source": [
    "#oneday.take(1)"
   ]
  },
  {
   "cell_type": "code",
   "execution_count": 6,
   "metadata": {
    "collapsed": true
   },
   "outputs": [],
   "source": [
    "oneday.saveAsTextFile('output1')"
   ]
  },
  {
   "cell_type": "code",
   "execution_count": 7,
   "metadata": {
    "collapsed": true
   },
   "outputs": [],
   "source": [
    "#rdd = sc.textFile('output0/part*')"
   ]
  },
  {
   "cell_type": "code",
   "execution_count": null,
   "metadata": {
    "collapsed": true
   },
   "outputs": [],
   "source": []
  },
  {
   "cell_type": "code",
   "execution_count": 8,
   "metadata": {
    "collapsed": true
   },
   "outputs": [],
   "source": [
    "#first = rdd.take(1)\n",
    "#first[0]"
   ]
  },
  {
   "cell_type": "code",
   "execution_count": 9,
   "metadata": {
    "collapsed": true
   },
   "outputs": [],
   "source": [
    "#len(first[0]), len(first[0].split(':')[0]), first[0].split(':')[0]"
   ]
  },
  {
   "cell_type": "code",
   "execution_count": 10,
   "metadata": {
    "collapsed": true
   },
   "outputs": [],
   "source": [
    "#onestreet = rdd.map(lambda x: x.split(':')[0])"
   ]
  },
  {
   "cell_type": "code",
   "execution_count": 11,
   "metadata": {
    "collapsed": true
   },
   "outputs": [],
   "source": [
    "#onestreet.saveAsTextFile('output1')"
   ]
  },
  {
   "cell_type": "code",
   "execution_count": 12,
   "metadata": {
    "collapsed": true
   },
   "outputs": [],
   "source": [
    "#rdd = sc.textFile('output1/part*')"
   ]
  },
  {
   "cell_type": "code",
   "execution_count": 13,
   "metadata": {
    "collapsed": true
   },
   "outputs": [],
   "source": [
    "#rdd.take(1)[0].split(',')[0]"
   ]
  },
  {
   "cell_type": "code",
   "execution_count": 14,
   "metadata": {
    "collapsed": true
   },
   "outputs": [],
   "source": [
    "#taxi_ids = rdd.map(lambda x: x.split(',')[0]).distinct()"
   ]
  },
  {
   "cell_type": "code",
   "execution_count": 15,
   "metadata": {
    "collapsed": true
   },
   "outputs": [],
   "source": [
    "#taxi_ids.saveAsTextFile('taxi_id')"
   ]
  },
  {
   "cell_type": "code",
   "execution_count": 16,
   "metadata": {
    "collapsed": true
   },
   "outputs": [],
   "source": [
    "# # Merging\n",
    "# with open('taxies.csv', 'wb') as outpt:\n",
    "#     for name in glob.glob('taxi_id/p*'):\n",
    "#         with open(name, 'rb') as inpt:\n",
    "#             shutil.copyfileobj(inpt, outpt)"
   ]
  },
  {
   "cell_type": "code",
   "execution_count": 17,
   "metadata": {
    "collapsed": true
   },
   "outputs": [],
   "source": [
    "# # Collecting unique taxi ids\n",
    "# filename = 'taxies.csv'\n",
    "# with open(filename, 'rb') as csvfile:\n",
    "#     reader = csv.reader(csvfile, delimiter=',')\n",
    "#     taxies = map(lambda id_: id_[0], reader)"
   ]
  },
  {
   "cell_type": "code",
   "execution_count": 18,
   "metadata": {
    "collapsed": true
   },
   "outputs": [],
   "source": [
    "# Creating original and 1 time step lagged collections with indexing\n",
    "rdd = sc.textFile('output1/part*')\n",
    "rm1 = rdd.sortBy(lambda x: (x.split(',')[0], x.split(',')[1])).\\\n",
    "            map(lambda x: (x.split(',')[0], x.split(',', 1)[-1])).\\\n",
    "            zipWithIndex().map(itemgetter(1, 0))\n",
    "\n",
    "rm2 = rdd.sortBy(lambda x: (x.split(',')[0], x.split(',')[1])).zipWithIndex().\\\n",
    "            filter(lambda (row, index): index > 0).keys().\\\n",
    "            map(lambda x: (x.split(',')[0], x.split(',', 1)[-1])).\\\n",
    "            zipWithIndex().map(itemgetter(1, 0))"
   ]
  },
  {
   "cell_type": "code",
   "execution_count": 19,
   "metadata": {
    "collapsed": true
   },
   "outputs": [],
   "source": [
    "#rm1.take(3)"
   ]
  },
  {
   "cell_type": "code",
   "execution_count": 20,
   "metadata": {
    "collapsed": true
   },
   "outputs": [],
   "source": [
    "#rm2.take(3)"
   ]
  },
  {
   "cell_type": "code",
   "execution_count": 21,
   "metadata": {
    "collapsed": true
   },
   "outputs": [],
   "source": [
    "# Joining and pairing consecutive records for the same taxi ids for pickup extraction\n",
    "rm3 = rm1.join(rm2).sortBy(lambda x: x[0]).\\\n",
    "            filter(lambda x: (x[1][0][0]==x[1][1][0]) and \\\n",
    "                             (int(x[1][0][1].split(',')[-2])<int(x[1][1][1].split(',')[-2]))).\\\n",
    "            map(lambda x: x[1][1])"
   ]
  },
  {
   "cell_type": "code",
   "execution_count": 22,
   "metadata": {
    "collapsed": true
   },
   "outputs": [],
   "source": [
    "rm3.saveAsTextFile('output2')"
   ]
  },
  {
   "cell_type": "code",
   "execution_count": 23,
   "metadata": {
    "collapsed": true
   },
   "outputs": [],
   "source": [
    "# Number of pickups\n",
    "rdd = sc.textFile('output2/part*')\n",
    "#rdd.count()"
   ]
  },
  {
   "cell_type": "code",
   "execution_count": 24,
   "metadata": {
    "collapsed": true
   },
   "outputs": [],
   "source": [
    "lion = sc.textFile('lion_census_combined.csv')\n",
    "lion = lion.zipWithIndex().filter(lambda (row, index): index > 0).keys()\n",
    "#lion.count()"
   ]
  },
  {
   "cell_type": "code",
   "execution_count": 25,
   "metadata": {
    "collapsed": true
   },
   "outputs": [],
   "source": [
    "#lion.take(5)"
   ]
  },
  {
   "cell_type": "code",
   "execution_count": 26,
   "metadata": {
    "collapsed": true
   },
   "outputs": [],
   "source": [
    "def prepare_pickups(record):\n",
    "    record = record.split(',')\n",
    "    return (record[-1][:-2], record[1][3:])\n",
    "\n",
    "def prepare_lion(record):\n",
    "    record = record.split(',')\n",
    "    return (record[0], record[1] + ',' + record[2])"
   ]
  },
  {
   "cell_type": "code",
   "execution_count": 27,
   "metadata": {
    "collapsed": true
   },
   "outputs": [],
   "source": [
    "rm1 = rdd.map(lambda x: prepare_pickups(x))\n",
    "rm2 = lion.map(lambda x: prepare_lion(x))"
   ]
  },
  {
   "cell_type": "code",
   "execution_count": 28,
   "metadata": {
    "collapsed": true
   },
   "outputs": [],
   "source": [
    "#rm1.take(5), rm2.take(5)"
   ]
  },
  {
   "cell_type": "code",
   "execution_count": 29,
   "metadata": {
    "collapsed": true
   },
   "outputs": [],
   "source": [
    "rm3 = rm1.join(rm2)\n",
    "rm3 = rm3.map(lambda x: x[1])\n",
    "rm3.saveAsTextFile('output3')"
   ]
  },
  {
   "cell_type": "code",
   "execution_count": 30,
   "metadata": {
    "collapsed": true
   },
   "outputs": [],
   "source": [
    "def get_minutes(record):\n",
    "    hourminute = record.split(',')[0][9:-3]\n",
    "    hours = int(hourminute[:2])\n",
    "    minutes = int(hourminute[2:]) + hours*60\n",
    "    return minutes\n",
    "\n",
    "#sunday = 6\n",
    "def is_sunday(record):\n",
    "    date = record.split(',')[0][3:-7]\n",
    "    year = int('20'+date[:2])\n",
    "    month = int(date[2:4])\n",
    "    day = int(date[4:])\n",
    "    return datetime.datetime(year, month, day).weekday() == 6\n",
    "\n",
    "def time_to_minutes(time_):\n",
    "    hours = int(time_[:2])\n",
    "    minutes = int(time_[2:])\n",
    "    return hours*60+minutes"
   ]
  },
  {
   "cell_type": "code",
   "execution_count": 31,
   "metadata": {
    "collapsed": true
   },
   "outputs": [],
   "source": [
    "rdd = sc.textFile('output3/part*').cache()\n",
    "#rdd.count()"
   ]
  },
  {
   "cell_type": "code",
   "execution_count": 32,
   "metadata": {
    "collapsed": true
   },
   "outputs": [],
   "source": [
    "sunday = rdd.filter(lambda x: is_sunday(x))\n",
    "weekday = rdd.filter(lambda x: not is_sunday(x))"
   ]
  },
  {
   "cell_type": "code",
   "execution_count": 33,
   "metadata": {
    "collapsed": true
   },
   "outputs": [],
   "source": [
    "#sunday.count(), weekday.count()"
   ]
  },
  {
   "cell_type": "code",
   "execution_count": 34,
   "metadata": {
    "collapsed": true
   },
   "outputs": [],
   "source": [
    "#sunday.take(3), weekday.take(3)"
   ]
  },
  {
   "cell_type": "code",
   "execution_count": 35,
   "metadata": {
    "collapsed": true
   },
   "outputs": [],
   "source": [
    "# Weekdays\n",
    "_1200amto0600am = [time_to_minutes('0000'), time_to_minutes('0600')]\n",
    "_0600amto1000am = [time_to_minutes('0600'), time_to_minutes('1000')]\n",
    "_1000amto0330pm = [time_to_minutes('1000'), time_to_minutes('1530')]\n",
    "_0330pmto0430pm = [time_to_minutes('1530'), time_to_minutes('1630')]\n",
    "_0430pmto0600pm = [time_to_minutes('1630'), time_to_minutes('1800')]\n",
    "_0600pmto0900pm = [time_to_minutes('1800'), time_to_minutes('2100')]\n",
    "_0900pmto1200am = [time_to_minutes('2100'), time_to_minutes('2400')]\n",
    "\n",
    "# Sundays\n",
    "_1200amto0200am = [time_to_minutes('0000'), time_to_minutes('0200')]\n",
    "_0200amto0200pm = [time_to_minutes('0200'), time_to_minutes('1400')]\n",
    "_0200pmto0400pm = [time_to_minutes('1400'), time_to_minutes('1600')]\n",
    "_0400pmto1200am = [time_to_minutes('1600'), time_to_minutes('2400')]"
   ]
  },
  {
   "cell_type": "code",
   "execution_count": 36,
   "metadata": {
    "collapsed": true
   },
   "outputs": [],
   "source": [
    "#_1200amto0600am, _0600amto1000am, _1000amto0330pm, _0330pmto0430pm, _0430pmto0600pm, _0600pmto0900pm, _0900pmto1200am\n",
    "\n",
    "#_1200amto0200am, _0200amto0200pm, _0200pmto0400pm, _0400pmto1200am"
   ]
  },
  {
   "cell_type": "code",
   "execution_count": 37,
   "metadata": {
    "collapsed": true
   },
   "outputs": [],
   "source": [
    "weekday_1200amto0600am = weekday.\\\n",
    "                        filter(lambda x: get_minutes(x)>=_1200amto0600am[0] and get_minutes(x)<_1200amto0600am[1])\n",
    "weekday_0600amto1000am = weekday.\\\n",
    "                        filter(lambda x: get_minutes(x)>=_0600amto1000am[0] and get_minutes(x)<_0600amto1000am[1])\n",
    "weekday_1000amto0330pm = weekday.\\\n",
    "                        filter(lambda x: get_minutes(x)>=_1000amto0330pm[0] and get_minutes(x)<_1000amto0330pm[1])\n",
    "weekday_0330pmto0430pm = weekday.\\\n",
    "                        filter(lambda x: get_minutes(x)>=_0330pmto0430pm[0] and get_minutes(x)<_0330pmto0430pm[1])\n",
    "weekday_0430pmto0600pm = weekday.\\\n",
    "                        filter(lambda x: get_minutes(x)>=_0430pmto0600pm[0] and get_minutes(x)<_0430pmto0600pm[1])\n",
    "weekday_0600pmto0900pm = weekday.\\\n",
    "                        filter(lambda x: get_minutes(x)>=_0600pmto0900pm[0] and get_minutes(x)<_0600pmto0900pm[1])\n",
    "weekday_0900pmto1200am = weekday.\\\n",
    "                        filter(lambda x: get_minutes(x)>=_0900pmto1200am[0] and get_minutes(x)<_0900pmto1200am[1])\n",
    "    \n",
    "sunday_1200amto0200am = sunday.\\\n",
    "                        filter(lambda x: get_minutes(x)>=_1200amto0200am[0] and get_minutes(x)<_1200amto0200am[1])\n",
    "sunday_0200amto0200pm = sunday.\\\n",
    "                        filter(lambda x: get_minutes(x)>=_0200amto0200pm[0] and get_minutes(x)<_0200amto0200pm[1])\n",
    "sunday_0200pmto0400pm = sunday.\\\n",
    "                        filter(lambda x: get_minutes(x)>=_0200pmto0400pm[0] and get_minutes(x)<_0200pmto0400pm[1])\n",
    "sunday_0400pmto1200am = sunday.\\\n",
    "                        filter(lambda x: get_minutes(x)>=_0400pmto1200am[0] and get_minutes(x)<_0400pmto1200am[1])"
   ]
  },
  {
   "cell_type": "code",
   "execution_count": 38,
   "metadata": {
    "collapsed": true
   },
   "outputs": [],
   "source": [
    "weekday_1200amto0600am = weekday_1200amto0600am.map(lambda x: (x.split(',')[1][3:], 1)).\\\n",
    "                        union(weekday_1200amto0600am.map(lambda x: (x.split(',')[2][:-2], 1))).\\\n",
    "                        reduceByKey(lambda x,y : x+y)\n",
    "weekday_0600amto1000am = weekday_0600amto1000am.map(lambda x: (x.split(',')[1][3:], 1)).\\\n",
    "                        union(weekday_0600amto1000am.map(lambda x: (x.split(',')[2][:-2], 1))).\\\n",
    "                        reduceByKey(lambda x,y : x+y)\n",
    "weekday_1000amto0330pm = weekday_1000amto0330pm.map(lambda x: (x.split(',')[1][3:], 1)).\\\n",
    "                        union(weekday_1000amto0330pm.map(lambda x: (x.split(',')[2][:-2], 1))).\\\n",
    "                        reduceByKey(lambda x,y : x+y)\n",
    "weekday_0330pmto0430pm = weekday_0330pmto0430pm.map(lambda x: (x.split(',')[1][3:], 1)).\\\n",
    "                        union(weekday_0330pmto0430pm.map(lambda x: (x.split(',')[2][:-2], 1))).\\\n",
    "                        reduceByKey(lambda x,y : x+y)\n",
    "weekday_0430pmto0600pm = weekday_0430pmto0600pm.map(lambda x: (x.split(',')[1][3:], 1)).\\\n",
    "                        union(weekday_0430pmto0600pm.map(lambda x: (x.split(',')[2][:-2], 1))).\\\n",
    "                        reduceByKey(lambda x,y : x+y)\n",
    "weekday_0600pmto0900pm = weekday_0600pmto0900pm.map(lambda x: (x.split(',')[1][3:], 1)).\\\n",
    "                        union(weekday_0600pmto0900pm.map(lambda x: (x.split(',')[2][:-2], 1))).\\\n",
    "                        reduceByKey(lambda x,y : x+y)\n",
    "weekday_0900pmto1200am = weekday_0900pmto1200am.map(lambda x: (x.split(',')[1][3:], 1)).\\\n",
    "                        union(weekday_0900pmto1200am.map(lambda x: (x.split(',')[2][:-2], 1))).\\\n",
    "                        reduceByKey(lambda x,y : x+y)\n",
    "\n",
    "sunday_1200amto0200am = sunday_1200amto0200am.map(lambda x: (x.split(',')[1][3:], 1)).\\\n",
    "                        union(sunday_1200amto0200am.map(lambda x: (x.split(',')[2][:-2], 1))).\\\n",
    "                        reduceByKey(lambda x,y : x+y)\n",
    "sunday_0200amto0200pm = sunday_0200amto0200pm.map(lambda x: (x.split(',')[1][3:], 1)).\\\n",
    "                        union(sunday_0200amto0200pm.map(lambda x: (x.split(',')[2][:-2], 1))).\\\n",
    "                        reduceByKey(lambda x,y : x+y)\n",
    "sunday_0200pmto0400pm = sunday_0200pmto0400pm.map(lambda x: (x.split(',')[1][3:], 1)).\\\n",
    "                        union(sunday_0200pmto0400pm.map(lambda x: (x.split(',')[2][:-2], 1))).\\\n",
    "                        reduceByKey(lambda x,y : x+y)\n",
    "sunday_0400pmto1200am = sunday_0400pmto1200am.map(lambda x: (x.split(',')[1][3:], 1)).\\\n",
    "                        union(sunday_0400pmto1200am.map(lambda x: (x.split(',')[2][:-2], 1))).\\\n",
    "                        reduceByKey(lambda x,y : x+y)"
   ]
  },
  {
   "cell_type": "code",
   "execution_count": 39,
   "metadata": {
    "collapsed": true
   },
   "outputs": [],
   "source": [
    "weekday_1200amto0600am.saveAsTextFile('weekday_1200amto0600am')\n",
    "weekday_0600amto1000am.saveAsTextFile('weekday_0600amto1000am')\n",
    "weekday_1000amto0330pm.saveAsTextFile('weekday_1000amto0330pm')\n",
    "weekday_0330pmto0430pm.saveAsTextFile('weekday_0330pmto0430pm')\n",
    "weekday_0430pmto0600pm.saveAsTextFile('weekday_0430pmto0600pm')\n",
    "weekday_0600pmto0900pm.saveAsTextFile('weekday_0600pmto0900pm')\n",
    "weekday_0900pmto1200am.saveAsTextFile('weekday_0900pmto1200am')\n",
    "sunday_1200amto0200am.saveAsTextFile('sunday_1200amto0200am')\n",
    "sunday_0200amto0200pm.saveAsTextFile('sunday_0200amto0200pm')\n",
    "sunday_0200pmto0400pm.saveAsTextFile('sunday_0200pmto0400pm')\n",
    "sunday_0400pmto1200am.saveAsTextFile('sunday_0400pmto1200am')"
   ]
  },
  {
   "cell_type": "code",
   "execution_count": 40,
   "metadata": {
    "collapsed": true
   },
   "outputs": [],
   "source": [
    "# Merging\n",
    "with open('weekday_1200amto0600am.csv', 'wb') as outpt:\n",
    "    for name in glob.glob('weekday_1200amto0600am/p*'):\n",
    "        with open(name, 'rb') as inpt:\n",
    "            shutil.copyfileobj(inpt, outpt)\n",
    "            \n",
    "with open('weekday_0600amto1000am.csv', 'wb') as outpt:\n",
    "    for name in glob.glob('weekday_0600amto1000am/p*'):\n",
    "        with open(name, 'rb') as inpt:\n",
    "            shutil.copyfileobj(inpt, outpt)\n",
    "            \n",
    "with open('weekday_1000amto0330pm.csv', 'wb') as outpt:\n",
    "    for name in glob.glob('weekday_1000amto0330pm/p*'):\n",
    "        with open(name, 'rb') as inpt:\n",
    "            shutil.copyfileobj(inpt, outpt)\n",
    "            \n",
    "with open('weekday_0330pmto0430pm.csv', 'wb') as outpt:\n",
    "    for name in glob.glob('weekday_0330pmto0430pm/p*'):\n",
    "        with open(name, 'rb') as inpt:\n",
    "            shutil.copyfileobj(inpt, outpt)\n",
    "            \n",
    "with open('weekday_0430pmto0600pm.csv', 'wb') as outpt:\n",
    "    for name in glob.glob('weekday_0430pmto0600pm/p*'):\n",
    "        with open(name, 'rb') as inpt:\n",
    "            shutil.copyfileobj(inpt, outpt)\n",
    "            \n",
    "with open('weekday_0600pmto0900pm.csv', 'wb') as outpt:\n",
    "    for name in glob.glob('weekday_0600pmto0900pm/p*'):\n",
    "        with open(name, 'rb') as inpt:\n",
    "            shutil.copyfileobj(inpt, outpt)\n",
    "            \n",
    "with open('weekday_0900pmto1200am.csv', 'wb') as outpt:\n",
    "    for name in glob.glob('weekday_0900pmto1200am/p*'):\n",
    "        with open(name, 'rb') as inpt:\n",
    "            shutil.copyfileobj(inpt, outpt)\n",
    "            \n",
    "with open('sunday_1200amto0200am.csv', 'wb') as outpt:\n",
    "    for name in glob.glob('sunday_1200amto0200am/p*'):\n",
    "        with open(name, 'rb') as inpt:\n",
    "            shutil.copyfileobj(inpt, outpt)\n",
    "            \n",
    "with open('sunday_0200amto0200pm.csv', 'wb') as outpt:\n",
    "    for name in glob.glob('sunday_0200amto0200pm/p*'):\n",
    "        with open(name, 'rb') as inpt:\n",
    "            shutil.copyfileobj(inpt, outpt)\n",
    "            \n",
    "with open('sunday_0200pmto0400pm.csv', 'wb') as outpt:\n",
    "    for name in glob.glob('sunday_0200pmto0400pm/p*'):\n",
    "        with open(name, 'rb') as inpt:\n",
    "            shutil.copyfileobj(inpt, outpt)\n",
    "            \n",
    "with open('sunday_0400pmto1200am.csv', 'wb') as outpt:\n",
    "    for name in glob.glob('sunday_0400pmto1200am/p*'):\n",
    "        with open(name, 'rb') as inpt:\n",
    "            shutil.copyfileobj(inpt, outpt)"
   ]
  },
  {
   "cell_type": "code",
   "execution_count": null,
   "metadata": {
    "collapsed": true
   },
   "outputs": [],
   "source": []
  },
  {
   "cell_type": "code",
   "execution_count": null,
   "metadata": {
    "collapsed": true
   },
   "outputs": [],
   "source": []
  },
  {
   "cell_type": "code",
   "execution_count": null,
   "metadata": {
    "collapsed": true
   },
   "outputs": [],
   "source": []
  }
 ],
 "metadata": {
  "kernelspec": {
   "display_name": "Python [conda root]",
   "language": "python",
   "name": "conda-root-py"
  },
  "language_info": {
   "codemirror_mode": {
    "name": "ipython",
    "version": 2
   },
   "file_extension": ".py",
   "mimetype": "text/x-python",
   "name": "python",
   "nbconvert_exporter": "python",
   "pygments_lexer": "ipython2",
   "version": "2.7.13"
  }
 },
 "nbformat": 4,
 "nbformat_minor": 2
}
